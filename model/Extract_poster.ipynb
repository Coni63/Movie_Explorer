{
 "cells": [
  {
   "cell_type": "code",
   "execution_count": 1,
   "metadata": {},
   "outputs": [],
   "source": [
    "import pandas as pd\n",
    "import tqdm\n",
    "import logging\n",
    "from socket import timeout\n",
    "import queue\n",
    "import threading\n",
    "import urllib\n",
    "import shutil"
   ]
  },
  {
   "cell_type": "code",
   "execution_count": 2,
   "metadata": {},
   "outputs": [],
   "source": [
    "df = pd.read_csv(\"../datas/raw/full_omdb.csv\" , index_col=0, encoding=\"ISO-8859-1\")"
   ]
  },
  {
   "cell_type": "code",
   "execution_count": 3,
   "metadata": {},
   "outputs": [],
   "source": [
    "df = df[[\"imdbID\", \"Poster\"]].set_index(\"imdbID\").dropna(axis=0)"
   ]
  },
  {
   "cell_type": "code",
   "execution_count": 4,
   "metadata": {},
   "outputs": [],
   "source": [
    "logger = logging.getLogger('poster')\n",
    "hdlr = logging.FileHandler('poster.log')\n",
    "logger.addHandler(hdlr) \n",
    "logger.setLevel(logging.WARNING)"
   ]
  },
  {
   "cell_type": "code",
   "execution_count": 5,
   "metadata": {},
   "outputs": [],
   "source": [
    "def extract_content():\n",
    "    while True:\n",
    "        row = q.get()\n",
    "        if row is None:\n",
    "            break\n",
    "        id = row[0]\n",
    "        path = row[1].values[0]\n",
    "        output_file = \"../datas/posters/\"+id+\".jpg\"\n",
    "        try:\n",
    "            with urllib.request.urlopen(path, timeout = 10) as response, open(output_file, 'wb') as out_file:\n",
    "                shutil.copyfileobj(response, out_file)\n",
    "        except (urllib.error.HTTPError, urllib.error.URLError) as error:\n",
    "            logger.error('Data of %s not retrieved because %s (%s)', id, error, path)\n",
    "        except timeout:\n",
    "            logger.error('socket timed out - Key %s', id)\n",
    "        q.task_done()"
   ]
  },
  {
   "cell_type": "code",
   "execution_count": 6,
   "metadata": {},
   "outputs": [
    {
     "name": "stdout",
     "output_type": "stream",
     "text": [
      "launch thread\n",
      "feeding queue\n",
      "end\n"
     ]
    }
   ],
   "source": [
    "q = queue.Queue()\n",
    "num_worker_threads = 10\n",
    "\n",
    "print(\"launch thread\")\n",
    "threads = []\n",
    "for i in range(num_worker_threads):\n",
    "    t = threading.Thread(target=extract_content)\n",
    "    t.start()\n",
    "    threads.append(t)\n",
    "    \n",
    "print(\"feeding queue\")\n",
    "for row in df.iterrows():\n",
    "    q.put(row)\n",
    "q.join()\n",
    "\n",
    "for i in range(num_worker_threads):\n",
    "    q.put(None)\n",
    "\n",
    "for t in threads:\n",
    "    t.join()\n",
    "print(\"end\")"
   ]
  },
  {
   "cell_type": "code",
   "execution_count": null,
   "metadata": {},
   "outputs": [],
   "source": []
  }
 ],
 "metadata": {
  "kernelspec": {
   "display_name": "Python 3",
   "language": "python",
   "name": "python3"
  },
  "language_info": {
   "codemirror_mode": {
    "name": "ipython",
    "version": 3
   },
   "file_extension": ".py",
   "mimetype": "text/x-python",
   "name": "python",
   "nbconvert_exporter": "python",
   "pygments_lexer": "ipython3",
   "version": "3.6.3"
  }
 },
 "nbformat": 4,
 "nbformat_minor": 2
}
